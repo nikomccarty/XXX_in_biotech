{
 "cells": [
  {
   "cell_type": "markdown",
   "metadata": {},
   "source": [
    "# Practice Methods for PMC and JSON Extractions"
   ]
  },
  {
   "cell_type": "markdown",
   "metadata": {},
   "source": [
    "Do not use this notebook in your analysis. This is a \"scratch pad.\""
   ]
  },
  {
   "cell_type": "code",
   "execution_count": 1,
   "metadata": {},
   "outputs": [],
   "source": [
    "import requests\n",
    "import json\n",
    "import pandas as pd"
   ]
  },
  {
   "cell_type": "code",
   "execution_count": 2,
   "metadata": {},
   "outputs": [],
   "source": [
    "r = requests.get('https://www.ncbi.nlm.nih.gov/research/bionlp/RESTful/pmcoa.cgi/BioC_json/17299597/unicode').json()"
   ]
  },
  {
   "cell_type": "code",
   "execution_count": 128,
   "metadata": {},
   "outputs": [],
   "source": [
    "def json_extract(obj, key):\n",
    "    \"\"\"Recursively fetch values from nested JSON.\"\"\"\n",
    "    arr = []\n",
    "\n",
    "    def extract(obj, arr, key):\n",
    "        \"\"\"Recursively search for values of key in JSON tree.\"\"\"\n",
    "        if isinstance(obj, dict):\n",
    "            for k, v in obj.items():\n",
    "                if isinstance(v, (dict, list)):\n",
    "                    extract(v, arr, key)\n",
    "                elif k == key:\n",
    "                    arr.append(v)\n",
    "        elif isinstance(obj, list):\n",
    "            for item in obj:\n",
    "                extract(item, arr, key)\n",
    "        return arr\n",
    "\n",
    "    values = extract(obj, arr, key)\n",
    "    return values"
   ]
  },
  {
   "cell_type": "code",
   "execution_count": 174,
   "metadata": {},
   "outputs": [],
   "source": [
    "section_types = json_extract(r, 'section_type')\n",
    "discuss_indices = []\n",
    "methods_indices = []\n",
    "for index, item in enumerate(section_types):\n",
    "    if item == 'DISCUSS':\n",
    "        discuss_indices.append(index)\n",
    "    elif item == 'METHODS':\n",
    "        methods_indices.append(index)"
   ]
  },
  {
   "cell_type": "code",
   "execution_count": 198,
   "metadata": {},
   "outputs": [],
   "source": [
    "section_texts = json_extract(r, 'text')\n",
    "merged_discussion = ''\n",
    "merged_methods = ''\n",
    "\n",
    "for index, item in enumerate(section_texts):\n",
    "    if index in discuss_indices:\n",
    "        merged_discussion += (item + ' ')\n",
    "    elif index in methods_indices:\n",
    "        merged_methods += (item + ' ')\n"
   ]
  },
  {
   "cell_type": "code",
   "execution_count": 199,
   "metadata": {},
   "outputs": [],
   "source": [
    "# print(merged_methods)"
   ]
  },
  {
   "cell_type": "code",
   "execution_count": 200,
   "metadata": {},
   "outputs": [],
   "source": [
    "data_dict = {\n",
    "    'source': r['source'],\n",
    "    'date': r['date'],\n",
    "    'document_id': r['documents'][0]['id'],\n",
    "    'document_license': r['documents'][0]['infons']['license'],\n",
    "    'title': r['documents'][0]['passages'][0]['text'],\n",
    "    'methods': merged_methods,\n",
    "    'discussion': merged_discussion\n",
    "}\n",
    "\n",
    "# print(data_dict)"
   ]
  },
  {
   "cell_type": "code",
   "execution_count": 201,
   "metadata": {},
   "outputs": [
    {
     "data": {
      "text/html": [
       "<div>\n",
       "<style scoped>\n",
       "    .dataframe tbody tr th:only-of-type {\n",
       "        vertical-align: middle;\n",
       "    }\n",
       "\n",
       "    .dataframe tbody tr th {\n",
       "        vertical-align: top;\n",
       "    }\n",
       "\n",
       "    .dataframe thead th {\n",
       "        text-align: right;\n",
       "    }\n",
       "</style>\n",
       "<table border=\"1\" class=\"dataframe\">\n",
       "  <thead>\n",
       "    <tr style=\"text-align: right;\">\n",
       "      <th></th>\n",
       "      <th>source</th>\n",
       "      <th>date</th>\n",
       "      <th>document_id</th>\n",
       "      <th>document_license</th>\n",
       "      <th>title</th>\n",
       "      <th>methods</th>\n",
       "      <th>discussion</th>\n",
       "    </tr>\n",
       "  </thead>\n",
       "  <tbody>\n",
       "    <tr>\n",
       "      <th>0</th>\n",
       "      <td>PMC</td>\n",
       "      <td>20201214</td>\n",
       "      <td>1790863</td>\n",
       "      <td>CC BY</td>\n",
       "      <td>Quantifying Organismal Complexity using a Popu...</td>\n",
       "      <td>Methods Viral Evolution The details of experim...</td>\n",
       "      <td>Discussion To understand how biological comple...</td>\n",
       "    </tr>\n",
       "  </tbody>\n",
       "</table>\n",
       "</div>"
      ],
      "text/plain": [
       "  source      date document_id document_license  \\\n",
       "0    PMC  20201214     1790863            CC BY   \n",
       "\n",
       "                                               title  \\\n",
       "0  Quantifying Organismal Complexity using a Popu...   \n",
       "\n",
       "                                             methods  \\\n",
       "0  Methods Viral Evolution The details of experim...   \n",
       "\n",
       "                                          discussion  \n",
       "0  Discussion To understand how biological comple...  "
      ]
     },
     "execution_count": 201,
     "metadata": {},
     "output_type": "execute_result"
    }
   ],
   "source": [
    "dct = {k: [v] for k,v in data_dict.items()}\n",
    "df = pd.DataFrame.from_dict(dct)\n",
    "df.head()"
   ]
  }
 ],
 "metadata": {
  "kernelspec": {
   "display_name": "Python 3.9.7 64-bit",
   "language": "python",
   "name": "python3"
  },
  "language_info": {
   "codemirror_mode": {
    "name": "ipython",
    "version": 3
   },
   "file_extension": ".py",
   "mimetype": "text/x-python",
   "name": "python",
   "nbconvert_exporter": "python",
   "pygments_lexer": "ipython3",
   "version": "3.9.7"
  },
  "orig_nbformat": 4,
  "vscode": {
   "interpreter": {
    "hash": "b558cf6316093fd6916106206f989176d756b6ad16da2dfd79d1b4583600b6a8"
   }
  }
 },
 "nbformat": 4,
 "nbformat_minor": 2
}
